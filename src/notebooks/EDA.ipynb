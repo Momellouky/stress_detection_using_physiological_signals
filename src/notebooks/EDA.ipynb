{
 "cells": [
  {
   "cell_type": "markdown",
   "metadata": {},
   "source": [
    "# Import libraries"
   ]
  },
  {
   "cell_type": "code",
   "execution_count": 1,
   "metadata": {},
   "outputs": [],
   "source": [
    "import pandas as pd \n",
    "import numpy as np \n",
    "import matplotlib.pyplot as plt "
   ]
  },
  {
   "cell_type": "markdown",
   "metadata": {},
   "source": [
    "# Load Data "
   ]
  },
  {
   "cell_type": "code",
   "execution_count": 13,
   "metadata": {},
   "outputs": [],
   "source": [
    "eda_df = pd.read_csv('./src/notebooks/data/wesad_eda_empatica.csv', sep=';')\n",
    "bvp_df = pd.read_csv('./src/notebooks/data/wesad_bvp_empatica.csv', sep=';')\n",
    "acc_df = pd.read_csv('./src/notebooks/data/wesad_acc_empatica.csv', sep=';')\n",
    "temp_df = pd.read_csv('./src/notebooks/data/wesad_temp_empatica.csv', sep=';')\n",
    "resp_df = pd.read_csv('./src/notebooks/data/wesad_resp_empatica.csv', sep=';')\n",
    "emg_df = pd.read_csv('./src/notebooks/data/wesad_emg_empatica.csv', sep=';')\n",
    "ecg_df = pd.read_csv('./src/notebooks/data/wesad_ecg_empatica.csv', sep=';')\n",
    "label_df = pd.read_csv('./src/notebooks/data/wesad_label_empatica.csv', sep=';')"
   ]
  },
  {
   "cell_type": "markdown",
   "metadata": {},
   "source": [
    "# Feature extraction"
   ]
  },
  {
   "cell_type": "code",
   "execution_count": 93,
   "metadata": {},
   "outputs": [],
   "source": [
    "def non_overlapping_rolling_stats(data, window_size, signal_name):\n",
    "    mean_vals = []\n",
    "    std_vals = []\n",
    "    min_vals = []\n",
    "    max_vals = []\n",
    "    \n",
    "    for start in range(0, len(data), window_size):\n",
    "        window_data = data[start:start + window_size]\n",
    "        if len(window_data) == window_size:\n",
    "            mean_vals.append(window_data.mean())\n",
    "            std_vals.append(window_data.std())\n",
    "            min_vals.append(window_data.min())\n",
    "            max_vals.append(window_data.max())\n",
    "    \n",
    "    result = pd.DataFrame({\n",
    "        f'{signal_name}mean': mean_vals,\n",
    "        f'{signal_name}std': std_vals,\n",
    "        f'{signal_name}min': min_vals,\n",
    "        f'{signal_name}max': max_vals\n",
    "    })\n",
    "    return result"
   ]
  },
  {
   "cell_type": "code",
   "execution_count": 164,
   "metadata": {},
   "outputs": [],
   "source": [
    "def feature_extraction(data, window_size, signal_name) : \n",
    "    subjects_lst = data.subject.unique() \n",
    "\n",
    "    temp_subject_lst = []\n",
    "    temp_feats_lst = []\n",
    "    for subject in subjects_lst : \n",
    "        subject_data = data[data['subject'] == subject][signal_name] \n",
    "        features = non_overlapping_rolling_stats(data=subject_data, window_size=window_size, signal_name=signal_name)\n",
    "        temp_feats_lst.append(features)\n",
    "        for _ in range(0, int(features.shape[0])) : \n",
    "            temp_subject_lst.append(subject)\n",
    "\n",
    "\n",
    "    features = pd.DataFrame()\n",
    "    for feat_df in temp_feats_lst : \n",
    "        features = pd.concat([features, feat_df], axis=0)\n",
    "\n",
    "\n",
    "\n",
    "    features = features.reset_index()\n",
    "    features = pd.concat([features, pd.DataFrame(temp_subject_lst)], axis=1)\n",
    "    features = features.rename(columns={\n",
    "        0 : 'subject'\n",
    "    })\n",
    "    \n",
    "    print(f'{signal_name} feature extraction : feature set shape : {features.shape}')\n",
    "    \n",
    "    return features\n"
   ]
  },
  {
   "cell_type": "code",
   "execution_count": 148,
   "metadata": {},
   "outputs": [],
   "source": [
    "import pandas as pd\n",
    "import numpy as np\n",
    "from scipy.stats import mode\n",
    "\n",
    "window_size = 4\n",
    "\n",
    "def non_overlapping_rolling_labels(data, window_size):\n",
    "    mode_vals = []\n",
    "    \n",
    "    for start in range(0, len(data), window_size):\n",
    "        window_data = data[start:start + window_size]\n",
    "        if len(window_data) == window_size:\n",
    "            mode_vals.append(mode(window_data).mode)  \n",
    "    \n",
    "    result = pd.DataFrame({\n",
    "        'label': mode_vals\n",
    "    })\n",
    "    return result"
   ]
  },
  {
   "cell_type": "code",
   "execution_count": 180,
   "metadata": {},
   "outputs": [
    {
     "name": "stdout",
     "output_type": "stream",
     "text": [
      "EDA feature extraction : feature set shape : (82440, 6)\n",
      "TEMP feature extraction : feature set shape : (82440, 6)\n",
      "x_axis feature extraction : feature set shape : (82440, 6)\n",
      "y_axis feature extraction : feature set shape : (82440, 6)\n",
      "z_axis feature extraction : feature set shape : (82440, 6)\n",
      "BVP feature extraction : feature set shape : (82440, 6)\n",
      "RESP feature extraction : feature set shape : (82440, 6)\n",
      "ECG feature extraction : feature set shape : (82440, 6)\n",
      "EMG feature extraction : feature set shape : (82440, 6)\n"
     ]
    }
   ],
   "source": [
    "window_size = 4\n",
    "eda_features = feature_extraction(eda_df, window_size=window_size, signal_name=eda_df.columns[1])\n",
    "temp_features = feature_extraction(temp_df, window_size=window_size, signal_name=temp_df.columns[1])\n",
    "window_size = 32\n",
    "x_acc_features = feature_extraction(acc_df, window_size=window_size, signal_name='x_axis')\n",
    "y_acc_features = feature_extraction(acc_df, window_size=window_size, signal_name='y_axis')\n",
    "z_acc_features = feature_extraction(acc_df, window_size=window_size, signal_name='z_axis')\n",
    "\n",
    "window_size = 64\n",
    "bvp_features = feature_extraction(bvp_df, window_size=window_size, signal_name=bvp_df.columns[1])\n",
    "\n",
    "window_size = 700 \n",
    "resp_features = feature_extraction(resp_df, window_size=window_size, signal_name=resp_df.columns[1])\n",
    "ecg_features = feature_extraction(ecg_df, window_size=window_size, signal_name=ecg_df.columns[1])\n",
    "emg_features = feature_extraction(emg_df, window_size=window_size, signal_name=emg_df.columns[1])\n"
   ]
  },
  {
   "cell_type": "code",
   "execution_count": 165,
   "metadata": {},
   "outputs": [
    {
     "name": "stdout",
     "output_type": "stream",
     "text": [
      "BVP feature extraction : feature set shape : (82440, 6)\n"
     ]
    }
   ],
   "source": [
    "window_size = 64\n",
    "bvp_features = feature_extraction(bvp_df, window_size=window_size, signal_name=bvp_df.columns[1])"
   ]
  },
  {
   "cell_type": "code",
   "execution_count": 149,
   "metadata": {},
   "outputs": [],
   "source": [
    "window_size = 700 \n",
    "labels = non_overlapping_rolling_labels(label_df['label'], window_size=window_size)"
   ]
  },
  {
   "cell_type": "code",
   "execution_count": 142,
   "metadata": {},
   "outputs": [
    {
     "name": "stdout",
     "output_type": "stream",
     "text": [
      "----------------------------------------------\n",
      "labels shape : (82440, 1)\n",
      "eda_features shape : (82440, 6)\n",
      "temp_features shape : (82440, 6)\n",
      "x_acc_features shape : (82440, 6)\n",
      "y_acc_features shape : (82440, 6)\n",
      "z_acc_features shape : (82440, 6)\n",
      "resp_features shape : (82440, 6)\n",
      "emg_features shape : (82440, 6)\n",
      "ecg_features shape : (82440, 6)\n",
      "labels shape : (82440, 1)\n",
      "----------------------------------------------\n"
     ]
    }
   ],
   "source": [
    "# chech that the feature extraction is done correctly. \n",
    "\n",
    "print(f'----------------------------------------------')\n",
    "print(f'labels shape : {labels.shape}')\n",
    "print(f'eda_features shape : {eda_features.shape}')\n",
    "print(f'temp_features shape : {temp_features.shape}')\n",
    "print(f'x_acc_features shape : {x_acc_features.shape}')\n",
    "print(f'y_acc_features shape : {y_acc_features.shape}')\n",
    "print(f'z_acc_features shape : {z_acc_features.shape}')\n",
    "print(f'resp_features shape : {resp_features.shape}')\n",
    "print(f'emg_features shape : {emg_features.shape}')\n",
    "print(f'ecg_features shape : {ecg_features.shape}')\n",
    "print(f'labels shape : {labels.shape}')\n",
    "print(f'----------------------------------------------')"
   ]
  },
  {
   "cell_type": "markdown",
   "metadata": {},
   "source": [
    "# Data Transformation "
   ]
  },
  {
   "cell_type": "code",
   "execution_count": 188,
   "metadata": {},
   "outputs": [
    {
     "data": {
      "text/html": [
       "<div>\n",
       "<style scoped>\n",
       "    .dataframe tbody tr th:only-of-type {\n",
       "        vertical-align: middle;\n",
       "    }\n",
       "\n",
       "    .dataframe tbody tr th {\n",
       "        vertical-align: top;\n",
       "    }\n",
       "\n",
       "    .dataframe thead th {\n",
       "        text-align: right;\n",
       "    }\n",
       "</style>\n",
       "<table border=\"1\" class=\"dataframe\">\n",
       "  <thead>\n",
       "    <tr style=\"text-align: right;\">\n",
       "      <th></th>\n",
       "      <th>index</th>\n",
       "      <th>EDAmean</th>\n",
       "      <th>EDAstd</th>\n",
       "      <th>EDAmin</th>\n",
       "      <th>EDAmax</th>\n",
       "      <th>subject</th>\n",
       "      <th>index</th>\n",
       "      <th>TEMPmean</th>\n",
       "      <th>TEMPstd</th>\n",
       "      <th>TEMPmin</th>\n",
       "      <th>...</th>\n",
       "      <th>EMGmin</th>\n",
       "      <th>EMGmax</th>\n",
       "      <th>subject</th>\n",
       "      <th>index</th>\n",
       "      <th>ECGmean</th>\n",
       "      <th>ECGstd</th>\n",
       "      <th>ECGmin</th>\n",
       "      <th>ECGmax</th>\n",
       "      <th>subject</th>\n",
       "      <th>label</th>\n",
       "    </tr>\n",
       "  </thead>\n",
       "  <tbody>\n",
       "    <tr>\n",
       "      <th>0</th>\n",
       "      <td>0</td>\n",
       "      <td>0.345697</td>\n",
       "      <td>0.006385</td>\n",
       "      <td>0.336423</td>\n",
       "      <td>0.350494</td>\n",
       "      <td>S10</td>\n",
       "      <td>0</td>\n",
       "      <td>33.1525</td>\n",
       "      <td>0.015</td>\n",
       "      <td>33.13</td>\n",
       "      <td>...</td>\n",
       "      <td>-0.063171</td>\n",
       "      <td>0.063400</td>\n",
       "      <td>S10</td>\n",
       "      <td>0</td>\n",
       "      <td>0.008149</td>\n",
       "      <td>0.708853</td>\n",
       "      <td>-1.333694</td>\n",
       "      <td>1.473129</td>\n",
       "      <td>S10</td>\n",
       "      <td>0</td>\n",
       "    </tr>\n",
       "    <tr>\n",
       "      <th>1</th>\n",
       "      <td>1</td>\n",
       "      <td>0.336743</td>\n",
       "      <td>0.003960</td>\n",
       "      <td>0.331306</td>\n",
       "      <td>0.340260</td>\n",
       "      <td>S10</td>\n",
       "      <td>1</td>\n",
       "      <td>33.1525</td>\n",
       "      <td>0.005</td>\n",
       "      <td>33.15</td>\n",
       "      <td>...</td>\n",
       "      <td>-0.040329</td>\n",
       "      <td>0.029526</td>\n",
       "      <td>S10</td>\n",
       "      <td>1</td>\n",
       "      <td>0.115067</td>\n",
       "      <td>0.215866</td>\n",
       "      <td>-0.431808</td>\n",
       "      <td>0.805618</td>\n",
       "      <td>S10</td>\n",
       "      <td>0</td>\n",
       "    </tr>\n",
       "    <tr>\n",
       "      <th>2</th>\n",
       "      <td>2</td>\n",
       "      <td>0.336103</td>\n",
       "      <td>0.001609</td>\n",
       "      <td>0.333865</td>\n",
       "      <td>0.337702</td>\n",
       "      <td>S10</td>\n",
       "      <td>2</td>\n",
       "      <td>33.1575</td>\n",
       "      <td>0.005</td>\n",
       "      <td>33.15</td>\n",
       "      <td>...</td>\n",
       "      <td>-0.036438</td>\n",
       "      <td>0.029709</td>\n",
       "      <td>S10</td>\n",
       "      <td>2</td>\n",
       "      <td>-0.030732</td>\n",
       "      <td>0.167507</td>\n",
       "      <td>-0.475388</td>\n",
       "      <td>0.716354</td>\n",
       "      <td>S10</td>\n",
       "      <td>0</td>\n",
       "    </tr>\n",
       "    <tr>\n",
       "      <th>3</th>\n",
       "      <td>3</td>\n",
       "      <td>0.336103</td>\n",
       "      <td>0.000640</td>\n",
       "      <td>0.335144</td>\n",
       "      <td>0.336423</td>\n",
       "      <td>S10</td>\n",
       "      <td>3</td>\n",
       "      <td>33.1525</td>\n",
       "      <td>0.005</td>\n",
       "      <td>33.15</td>\n",
       "      <td>...</td>\n",
       "      <td>-0.049622</td>\n",
       "      <td>0.032730</td>\n",
       "      <td>S10</td>\n",
       "      <td>3</td>\n",
       "      <td>0.008302</td>\n",
       "      <td>0.153476</td>\n",
       "      <td>-0.470581</td>\n",
       "      <td>0.888290</td>\n",
       "      <td>S10</td>\n",
       "      <td>0</td>\n",
       "    </tr>\n",
       "    <tr>\n",
       "      <th>4</th>\n",
       "      <td>4</td>\n",
       "      <td>0.335144</td>\n",
       "      <td>0.000000</td>\n",
       "      <td>0.335144</td>\n",
       "      <td>0.335144</td>\n",
       "      <td>S10</td>\n",
       "      <td>4</td>\n",
       "      <td>33.1575</td>\n",
       "      <td>0.005</td>\n",
       "      <td>33.15</td>\n",
       "      <td>...</td>\n",
       "      <td>-0.042847</td>\n",
       "      <td>0.020828</td>\n",
       "      <td>S10</td>\n",
       "      <td>4</td>\n",
       "      <td>-0.029259</td>\n",
       "      <td>0.180918</td>\n",
       "      <td>-0.449020</td>\n",
       "      <td>0.880417</td>\n",
       "      <td>S10</td>\n",
       "      <td>0</td>\n",
       "    </tr>\n",
       "    <tr>\n",
       "      <th>...</th>\n",
       "      <td>...</td>\n",
       "      <td>...</td>\n",
       "      <td>...</td>\n",
       "      <td>...</td>\n",
       "      <td>...</td>\n",
       "      <td>...</td>\n",
       "      <td>...</td>\n",
       "      <td>...</td>\n",
       "      <td>...</td>\n",
       "      <td>...</td>\n",
       "      <td>...</td>\n",
       "      <td>...</td>\n",
       "      <td>...</td>\n",
       "      <td>...</td>\n",
       "      <td>...</td>\n",
       "      <td>...</td>\n",
       "      <td>...</td>\n",
       "      <td>...</td>\n",
       "      <td>...</td>\n",
       "      <td>...</td>\n",
       "      <td>...</td>\n",
       "    </tr>\n",
       "    <tr>\n",
       "      <th>82435</th>\n",
       "      <td>5491</td>\n",
       "      <td>0.956198</td>\n",
       "      <td>0.002185</td>\n",
       "      <td>0.953320</td>\n",
       "      <td>0.958437</td>\n",
       "      <td>S9</td>\n",
       "      <td>5491</td>\n",
       "      <td>30.8450</td>\n",
       "      <td>0.010</td>\n",
       "      <td>30.83</td>\n",
       "      <td>...</td>\n",
       "      <td>-0.051086</td>\n",
       "      <td>0.031631</td>\n",
       "      <td>S9</td>\n",
       "      <td>5491</td>\n",
       "      <td>0.020745</td>\n",
       "      <td>0.143736</td>\n",
       "      <td>-0.400681</td>\n",
       "      <td>0.726608</td>\n",
       "      <td>S9</td>\n",
       "      <td>0</td>\n",
       "    </tr>\n",
       "    <tr>\n",
       "      <th>82436</th>\n",
       "      <td>5492</td>\n",
       "      <td>0.953640</td>\n",
       "      <td>0.001225</td>\n",
       "      <td>0.952041</td>\n",
       "      <td>0.954600</td>\n",
       "      <td>S9</td>\n",
       "      <td>5492</td>\n",
       "      <td>30.8500</td>\n",
       "      <td>0.000</td>\n",
       "      <td>30.85</td>\n",
       "      <td>...</td>\n",
       "      <td>-0.045273</td>\n",
       "      <td>0.025955</td>\n",
       "      <td>S9</td>\n",
       "      <td>5492</td>\n",
       "      <td>-0.001353</td>\n",
       "      <td>0.148725</td>\n",
       "      <td>-0.486282</td>\n",
       "      <td>0.676437</td>\n",
       "      <td>S9</td>\n",
       "      <td>0</td>\n",
       "    </tr>\n",
       "    <tr>\n",
       "      <th>82437</th>\n",
       "      <td>5493</td>\n",
       "      <td>0.952681</td>\n",
       "      <td>0.001279</td>\n",
       "      <td>0.952041</td>\n",
       "      <td>0.954600</td>\n",
       "      <td>S9</td>\n",
       "      <td>5493</td>\n",
       "      <td>30.8350</td>\n",
       "      <td>0.010</td>\n",
       "      <td>30.83</td>\n",
       "      <td>...</td>\n",
       "      <td>-0.048477</td>\n",
       "      <td>0.024216</td>\n",
       "      <td>S9</td>\n",
       "      <td>5493</td>\n",
       "      <td>0.001035</td>\n",
       "      <td>0.166538</td>\n",
       "      <td>-0.457443</td>\n",
       "      <td>0.731369</td>\n",
       "      <td>S9</td>\n",
       "      <td>0</td>\n",
       "    </tr>\n",
       "    <tr>\n",
       "      <th>82438</th>\n",
       "      <td>5494</td>\n",
       "      <td>0.946285</td>\n",
       "      <td>0.003977</td>\n",
       "      <td>0.941808</td>\n",
       "      <td>0.950762</td>\n",
       "      <td>S9</td>\n",
       "      <td>5494</td>\n",
       "      <td>30.8450</td>\n",
       "      <td>0.010</td>\n",
       "      <td>30.83</td>\n",
       "      <td>...</td>\n",
       "      <td>-0.052505</td>\n",
       "      <td>0.025589</td>\n",
       "      <td>S9</td>\n",
       "      <td>5494</td>\n",
       "      <td>-0.006044</td>\n",
       "      <td>0.148401</td>\n",
       "      <td>-0.439499</td>\n",
       "      <td>0.783463</td>\n",
       "      <td>S9</td>\n",
       "      <td>0</td>\n",
       "    </tr>\n",
       "    <tr>\n",
       "      <th>82439</th>\n",
       "      <td>5495</td>\n",
       "      <td>0.934453</td>\n",
       "      <td>0.004096</td>\n",
       "      <td>0.931574</td>\n",
       "      <td>0.940529</td>\n",
       "      <td>S9</td>\n",
       "      <td>5495</td>\n",
       "      <td>30.8350</td>\n",
       "      <td>0.010</td>\n",
       "      <td>30.83</td>\n",
       "      <td>...</td>\n",
       "      <td>-0.131744</td>\n",
       "      <td>0.118652</td>\n",
       "      <td>S9</td>\n",
       "      <td>5495</td>\n",
       "      <td>-0.103831</td>\n",
       "      <td>0.492412</td>\n",
       "      <td>-1.460220</td>\n",
       "      <td>0.862976</td>\n",
       "      <td>S9</td>\n",
       "      <td>0</td>\n",
       "    </tr>\n",
       "  </tbody>\n",
       "</table>\n",
       "<p>82440 rows × 55 columns</p>\n",
       "</div>"
      ],
      "text/plain": [
       "       index   EDAmean    EDAstd    EDAmin    EDAmax  subject  index  \\\n",
       "0          0  0.345697  0.006385  0.336423  0.350494      S10      0   \n",
       "1          1  0.336743  0.003960  0.331306  0.340260      S10      1   \n",
       "2          2  0.336103  0.001609  0.333865  0.337702      S10      2   \n",
       "3          3  0.336103  0.000640  0.335144  0.336423      S10      3   \n",
       "4          4  0.335144  0.000000  0.335144  0.335144      S10      4   \n",
       "...      ...       ...       ...       ...       ...      ...    ...   \n",
       "82435   5491  0.956198  0.002185  0.953320  0.958437       S9   5491   \n",
       "82436   5492  0.953640  0.001225  0.952041  0.954600       S9   5492   \n",
       "82437   5493  0.952681  0.001279  0.952041  0.954600       S9   5493   \n",
       "82438   5494  0.946285  0.003977  0.941808  0.950762       S9   5494   \n",
       "82439   5495  0.934453  0.004096  0.931574  0.940529       S9   5495   \n",
       "\n",
       "       TEMPmean  TEMPstd  TEMPmin  ...    EMGmin    EMGmax  subject  index  \\\n",
       "0       33.1525    0.015    33.13  ... -0.063171  0.063400      S10      0   \n",
       "1       33.1525    0.005    33.15  ... -0.040329  0.029526      S10      1   \n",
       "2       33.1575    0.005    33.15  ... -0.036438  0.029709      S10      2   \n",
       "3       33.1525    0.005    33.15  ... -0.049622  0.032730      S10      3   \n",
       "4       33.1575    0.005    33.15  ... -0.042847  0.020828      S10      4   \n",
       "...         ...      ...      ...  ...       ...       ...      ...    ...   \n",
       "82435   30.8450    0.010    30.83  ... -0.051086  0.031631       S9   5491   \n",
       "82436   30.8500    0.000    30.85  ... -0.045273  0.025955       S9   5492   \n",
       "82437   30.8350    0.010    30.83  ... -0.048477  0.024216       S9   5493   \n",
       "82438   30.8450    0.010    30.83  ... -0.052505  0.025589       S9   5494   \n",
       "82439   30.8350    0.010    30.83  ... -0.131744  0.118652       S9   5495   \n",
       "\n",
       "        ECGmean    ECGstd    ECGmin    ECGmax  subject  label  \n",
       "0      0.008149  0.708853 -1.333694  1.473129      S10      0  \n",
       "1      0.115067  0.215866 -0.431808  0.805618      S10      0  \n",
       "2     -0.030732  0.167507 -0.475388  0.716354      S10      0  \n",
       "3      0.008302  0.153476 -0.470581  0.888290      S10      0  \n",
       "4     -0.029259  0.180918 -0.449020  0.880417      S10      0  \n",
       "...         ...       ...       ...       ...      ...    ...  \n",
       "82435  0.020745  0.143736 -0.400681  0.726608       S9      0  \n",
       "82436 -0.001353  0.148725 -0.486282  0.676437       S9      0  \n",
       "82437  0.001035  0.166538 -0.457443  0.731369       S9      0  \n",
       "82438 -0.006044  0.148401 -0.439499  0.783463       S9      0  \n",
       "82439 -0.103831  0.492412 -1.460220  0.862976       S9      0  \n",
       "\n",
       "[82440 rows x 55 columns]"
      ]
     },
     "execution_count": 188,
     "metadata": {},
     "output_type": "execute_result"
    }
   ],
   "source": [
    "feature_set = pd.DataFrame()\n",
    "feature_set = pd.concat([feature_set, eda_features, temp_features, \n",
    "                         x_acc_features, y_acc_features, z_acc_features, \n",
    "                         bvp_features, resp_features, emg_features, ecg_features, \n",
    "                         labels], \n",
    "                        axis=1) \n",
    "\n",
    "feature_set"
   ]
  },
  {
   "cell_type": "code",
   "execution_count": 189,
   "metadata": {},
   "outputs": [
    {
     "name": "stdout",
     "output_type": "stream",
     "text": [
      "<class 'pandas.core.frame.DataFrame'>\n",
      "RangeIndex: 82440 entries, 0 to 82439\n",
      "Data columns (total 38 columns):\n",
      " #   Column      Non-Null Count  Dtype \n",
      "---  ------      --------------  ----- \n",
      " 0   EDAmean     82440 non-null  object\n",
      " 1   EDAstd      82440 non-null  object\n",
      " 2   EDAmin      82440 non-null  object\n",
      " 3   EDAmax      82440 non-null  object\n",
      " 4   subject     82440 non-null  object\n",
      " 5   TEMPmean    82440 non-null  object\n",
      " 6   TEMPstd     82440 non-null  object\n",
      " 7   TEMPmin     82440 non-null  object\n",
      " 8   TEMPmax     82440 non-null  object\n",
      " 9   x_axismean  82440 non-null  object\n",
      " 10  x_axisstd   82440 non-null  object\n",
      " 11  x_axismin   82440 non-null  object\n",
      " 12  x_axismax   82440 non-null  object\n",
      " 13  y_axismean  82440 non-null  object\n",
      " 14  y_axisstd   82440 non-null  object\n",
      " 15  y_axismin   82440 non-null  object\n",
      " 16  y_axismax   82440 non-null  object\n",
      " 17  z_axismean  82440 non-null  object\n",
      " 18  z_axisstd   82440 non-null  object\n",
      " 19  z_axismin   82440 non-null  object\n",
      " 20  z_axismax   82440 non-null  object\n",
      " 21  BVPmean     82440 non-null  object\n",
      " 22  BVPstd      82440 non-null  object\n",
      " 23  BVPmin      82440 non-null  object\n",
      " 24  BVPmax      82440 non-null  object\n",
      " 25  RESPmean    82440 non-null  object\n",
      " 26  RESPstd     82440 non-null  object\n",
      " 27  RESPmin     82440 non-null  object\n",
      " 28  RESPmax     82440 non-null  object\n",
      " 29  EMGmean     82440 non-null  object\n",
      " 30  EMGstd      82440 non-null  object\n",
      " 31  EMGmin      82440 non-null  object\n",
      " 32  EMGmax      82440 non-null  object\n",
      " 33  ECGmean     82440 non-null  object\n",
      " 34  ECGstd      82440 non-null  object\n",
      " 35  ECGmin      82440 non-null  object\n",
      " 36  ECGmax      82440 non-null  object\n",
      " 37  label       82440 non-null  object\n",
      "dtypes: object(38)\n",
      "memory usage: 23.9+ MB\n"
     ]
    }
   ],
   "source": [
    "# Remove label and subject columns to perform data transformations\n",
    "\n",
    "feature_set_ = feature_set.drop(labels=['index'], axis=1)\n",
    "feature_set_ = feature_set_.T.drop_duplicates().T # Remove duplicate subject columns\n",
    "feature_set_.info()"
   ]
  },
  {
   "cell_type": "code",
   "execution_count": 190,
   "metadata": {},
   "outputs": [
    {
     "name": "stdout",
     "output_type": "stream",
     "text": [
      "<class 'pandas.core.frame.DataFrame'>\n",
      "RangeIndex: 82440 entries, 0 to 82439\n",
      "Data columns (total 36 columns):\n",
      " #   Column      Non-Null Count  Dtype \n",
      "---  ------      --------------  ----- \n",
      " 0   EDAmean     82440 non-null  object\n",
      " 1   EDAstd      82440 non-null  object\n",
      " 2   EDAmin      82440 non-null  object\n",
      " 3   EDAmax      82440 non-null  object\n",
      " 4   TEMPmean    82440 non-null  object\n",
      " 5   TEMPstd     82440 non-null  object\n",
      " 6   TEMPmin     82440 non-null  object\n",
      " 7   TEMPmax     82440 non-null  object\n",
      " 8   x_axismean  82440 non-null  object\n",
      " 9   x_axisstd   82440 non-null  object\n",
      " 10  x_axismin   82440 non-null  object\n",
      " 11  x_axismax   82440 non-null  object\n",
      " 12  y_axismean  82440 non-null  object\n",
      " 13  y_axisstd   82440 non-null  object\n",
      " 14  y_axismin   82440 non-null  object\n",
      " 15  y_axismax   82440 non-null  object\n",
      " 16  z_axismean  82440 non-null  object\n",
      " 17  z_axisstd   82440 non-null  object\n",
      " 18  z_axismin   82440 non-null  object\n",
      " 19  z_axismax   82440 non-null  object\n",
      " 20  BVPmean     82440 non-null  object\n",
      " 21  BVPstd      82440 non-null  object\n",
      " 22  BVPmin      82440 non-null  object\n",
      " 23  BVPmax      82440 non-null  object\n",
      " 24  RESPmean    82440 non-null  object\n",
      " 25  RESPstd     82440 non-null  object\n",
      " 26  RESPmin     82440 non-null  object\n",
      " 27  RESPmax     82440 non-null  object\n",
      " 28  EMGmean     82440 non-null  object\n",
      " 29  EMGstd      82440 non-null  object\n",
      " 30  EMGmin      82440 non-null  object\n",
      " 31  EMGmax      82440 non-null  object\n",
      " 32  ECGmean     82440 non-null  object\n",
      " 33  ECGstd      82440 non-null  object\n",
      " 34  ECGmin      82440 non-null  object\n",
      " 35  ECGmax      82440 non-null  object\n",
      "dtypes: object(36)\n",
      "memory usage: 22.6+ MB\n"
     ]
    }
   ],
   "source": [
    "# Remove subjects and labels columns \n",
    "labels_col = feature_set_.label \n",
    "feature_set_.drop(labels=['label'], axis=1, inplace=True)\n",
    "\n",
    "subjects_col = feature_set_.subject      \n",
    "feature_set_.drop(labels=['subject'], axis=1, inplace=True)\n",
    "\n",
    "feature_set_.info() "
   ]
  },
  {
   "cell_type": "code",
   "execution_count": 192,
   "metadata": {},
   "outputs": [
    {
     "name": "stdout",
     "output_type": "stream",
     "text": [
      "<class 'pandas.core.frame.DataFrame'>\n",
      "RangeIndex: 82440 entries, 0 to 82439\n",
      "Data columns (total 36 columns):\n",
      " #   Column      Non-Null Count  Dtype  \n",
      "---  ------      --------------  -----  \n",
      " 0   EDAmean     82440 non-null  float64\n",
      " 1   EDAstd      82440 non-null  float64\n",
      " 2   EDAmin      82440 non-null  float64\n",
      " 3   EDAmax      82440 non-null  float64\n",
      " 4   TEMPmean    82440 non-null  float64\n",
      " 5   TEMPstd     82440 non-null  float64\n",
      " 6   TEMPmin     82440 non-null  float64\n",
      " 7   TEMPmax     82440 non-null  float64\n",
      " 8   x_axismean  82440 non-null  float64\n",
      " 9   x_axisstd   82440 non-null  float64\n",
      " 10  x_axismin   82440 non-null  float64\n",
      " 11  x_axismax   82440 non-null  float64\n",
      " 12  y_axismean  82440 non-null  float64\n",
      " 13  y_axisstd   82440 non-null  float64\n",
      " 14  y_axismin   82440 non-null  float64\n",
      " 15  y_axismax   82440 non-null  float64\n",
      " 16  z_axismean  82440 non-null  float64\n",
      " 17  z_axisstd   82440 non-null  float64\n",
      " 18  z_axismin   82440 non-null  float64\n",
      " 19  z_axismax   82440 non-null  float64\n",
      " 20  BVPmean     82440 non-null  float64\n",
      " 21  BVPstd      82440 non-null  float64\n",
      " 22  BVPmin      82440 non-null  float64\n",
      " 23  BVPmax      82440 non-null  float64\n",
      " 24  RESPmean    82440 non-null  float64\n",
      " 25  RESPstd     82440 non-null  float64\n",
      " 26  RESPmin     82440 non-null  float64\n",
      " 27  RESPmax     82440 non-null  float64\n",
      " 28  EMGmean     82440 non-null  float64\n",
      " 29  EMGstd      82440 non-null  float64\n",
      " 30  EMGmin      82440 non-null  float64\n",
      " 31  EMGmax      82440 non-null  float64\n",
      " 32  ECGmean     82440 non-null  float64\n",
      " 33  ECGstd      82440 non-null  float64\n",
      " 34  ECGmin      82440 non-null  float64\n",
      " 35  ECGmax      82440 non-null  float64\n",
      "dtypes: float64(36)\n",
      "memory usage: 22.6 MB\n"
     ]
    }
   ],
   "source": [
    "# Convert columns datatype to int \n",
    "\n",
    "feature_set_ = feature_set_.astype('float')\n",
    "feature_set_.info()"
   ]
  },
  {
   "cell_type": "code",
   "execution_count": 247,
   "metadata": {},
   "outputs": [],
   "source": [
    "# Data transformations : Quantile Transformer and Standard Scalar\n",
    "\n",
    "from sklearn.preprocessing import QuantileTransformer, StandardScaler\n",
    "from sklearn.decomposition import PCA\n",
    "\n",
    "pca = PCA(n_components=20, svd_solver='full')\n",
    "pca_df = pca.fit_transform(feature_set_)\n",
    "pca_df = pd.DataFrame(pca_df, columns=[f'PC{i}' for i in range(1, 21)])\n",
    " \n",
    "\n",
    "transformer = QuantileTransformer()\n",
    "transformed_data = transformer.fit_transform(pca_df)\n",
    "transformed_data = pd.DataFrame(transformed_data)\n",
    "transformed_data.columns = pca_df.columns\n",
    "\n",
    "scaler = StandardScaler()\n",
    "scaled_data = scaler.fit_transform(transformed_data)\n",
    "scaled_data = pd.DataFrame(scaled_data)\n",
    "scaled_data.columns = transformed_data.columns\n"
   ]
  },
  {
   "cell_type": "code",
   "execution_count": 245,
   "metadata": {},
   "outputs": [
    {
     "data": {
      "text/plain": [
       "str"
      ]
     },
     "execution_count": 245,
     "metadata": {},
     "output_type": "execute_result"
    }
   ],
   "source": [
    "type(scaled_data.label.dtype.name)"
   ]
  },
  {
   "cell_type": "code",
   "execution_count": 249,
   "metadata": {},
   "outputs": [
    {
     "name": "stdout",
     "output_type": "stream",
     "text": [
      "change type\n",
      "<class 'pandas.core.frame.DataFrame'>\n",
      "RangeIndex: 82440 entries, 0 to 82439\n",
      "Data columns (total 22 columns):\n",
      " #   Column   Non-Null Count  Dtype  \n",
      "---  ------   --------------  -----  \n",
      " 0   PC1      82440 non-null  float64\n",
      " 1   PC2      82440 non-null  float64\n",
      " 2   PC3      82440 non-null  float64\n",
      " 3   PC4      82440 non-null  float64\n",
      " 4   PC5      82440 non-null  float64\n",
      " 5   PC6      82440 non-null  float64\n",
      " 6   PC7      82440 non-null  float64\n",
      " 7   PC8      82440 non-null  float64\n",
      " 8   PC9      82440 non-null  float64\n",
      " 9   PC10     82440 non-null  float64\n",
      " 10  PC11     82440 non-null  float64\n",
      " 11  PC12     82440 non-null  float64\n",
      " 12  PC13     82440 non-null  float64\n",
      " 13  PC14     82440 non-null  float64\n",
      " 14  PC15     82440 non-null  float64\n",
      " 15  PC16     82440 non-null  float64\n",
      " 16  PC17     82440 non-null  float64\n",
      " 17  PC18     82440 non-null  float64\n",
      " 18  PC19     82440 non-null  float64\n",
      " 19  PC20     82440 non-null  float64\n",
      " 20  subject  82440 non-null  object \n",
      " 21  label    82440 non-null  int32  \n",
      "dtypes: float64(20), int32(1), object(1)\n",
      "memory usage: 13.5+ MB\n"
     ]
    }
   ],
   "source": [
    "# Put the subject and label column to the scaled data frame \n",
    "# to train the model using leave-one-subject-out cross validation\n",
    "\n",
    "scaled_data['subject'] = subjects_col\n",
    "scaled_data['label'] = labels_col\n",
    "\n",
    "if scaled_data.label.dtype.name == \"object\" : \n",
    "    scaled_data.label = scaled_data.label.astype('int')\n",
    "\n",
    "scaled_data.info()"
   ]
  },
  {
   "cell_type": "code",
   "execution_count": 201,
   "metadata": {},
   "outputs": [],
   "source": [
    "# Remove data points that does not belong to classes : [0, 1, 2] \n",
    "# Other data points have no interesting labels for out classification task\n",
    "# for more details check weasd_readme.pdf \n",
    "\n",
    "# scaled_data_ is a scaled_data version used in training and testing.\n",
    "scaled_data_ = scaled_data[(scaled_data['label'] == 0) | (scaled_data['label'] == 1) | (scaled_data['label'] == 2)]"
   ]
  },
  {
   "cell_type": "code",
   "execution_count": 204,
   "metadata": {},
   "outputs": [
    {
     "name": "stdout",
     "output_type": "stream",
     "text": [
      "- We have lost 19815 datasets\n",
      "- We have lost 24.03566229985444 % of data\n"
     ]
    }
   ],
   "source": [
    "# Calculate how many data points are lost \n",
    "\n",
    "print(f'- We have lost {scaled_data.shape[0] - scaled_data_.shape[0]} datasets')\n",
    "print(f'- We have lost {((scaled_data.shape[0] - scaled_data_.shape[0]) / scaled_data.shape[0]) * 100} % of data')"
   ]
  },
  {
   "cell_type": "markdown",
   "metadata": {},
   "source": [
    "# Train the model "
   ]
  },
  {
   "cell_type": "markdown",
   "metadata": {},
   "source": [
    "## SVM "
   ]
  },
  {
   "cell_type": "code",
   "execution_count": 217,
   "metadata": {},
   "outputs": [
    {
     "data": {
      "text/plain": [
       "<Axes: >"
      ]
     },
     "execution_count": 217,
     "metadata": {},
     "output_type": "execute_result"
    },
    {
     "data": {
      "image/png": "[encoded data removed]",
      "text/plain": [
       "<Figure size 640x480 with 1 Axes>"
      ]
     },
     "metadata": {},
     "output_type": "display_data"
    }
   ],
   "source": [
    "# Visualize the label distribution before filtering unwanted labels\n",
    "\n",
    "\n",
    "scaled_data.label.hist()"
   ]
  },
  {
   "cell_type": "code",
   "execution_count": 219,
   "metadata": {},
   "outputs": [
    {
     "data": {
      "text/plain": [
       "<Axes: >"
      ]
     },
     "execution_count": 219,
     "metadata": {},
     "output_type": "execute_result"
    },
    {
     "data": {
      "image/png": "[encoded data removed]",
      "text/plain": [
       "<Figure size 640x480 with 1 Axes>"
      ]
     },
     "metadata": {},
     "output_type": "display_data"
    }
   ],
   "source": [
    "# Visualize the label distribution after filtering unwanted labels\n",
    "\n",
    "scaled_data_.label.hist() "
   ]
  },
  {
   "cell_type": "code",
   "execution_count": 222,
   "metadata": {},
   "outputs": [
    {
     "data": {
      "text/plain": [
       "Index(['PC1', 'PC2', 'PC3', 'PC4', 'PC5', 'PC6', 'PC7', 'PC8', 'PC9', 'PC10',\n",
       "       'PC11', 'PC12', 'PC13', 'PC14', 'PC15', 'PC16', 'PC17', 'PC18', 'PC19',\n",
       "       'PC20', 'subject', 'label'],\n",
       "      dtype='object')"
      ]
     },
     "execution_count": 222,
     "metadata": {},
     "output_type": "execute_result"
    }
   ],
   "source": [
    "scaled_data_.columns"
   ]
  },
  {
   "cell_type": "code",
   "execution_count": 228,
   "metadata": {},
   "outputs": [
    {
     "data": {
      "text/plain": [
       "(62625,)"
      ]
     },
     "execution_count": 228,
     "metadata": {},
     "output_type": "execute_result"
    }
   ],
   "source": [
    "# Due the label filtering, we need to update our list of subjects\n",
    "\n",
    "subjects_col_ = scaled_data_.subject \n",
    "subjects_col_.shape"
   ]
  },
  {
   "cell_type": "code",
   "execution_count": 232,
   "metadata": {},
   "outputs": [
    {
     "data": {
      "text/plain": [
       "array(['S10', 'S10', 'S10', ..., 'S9', 'S9', 'S9'], dtype=object)"
      ]
     },
     "execution_count": 232,
     "metadata": {},
     "output_type": "execute_result"
    }
   ],
   "source": [
    "subjects_col_.values"
   ]
  },
  {
   "cell_type": "code",
   "execution_count": 237,
   "metadata": {},
   "outputs": [
    {
     "name": "stdout",
     "output_type": "stream",
     "text": [
      "- len subjects_id : 62625\n",
      "- len subjects_id : (62625,)\n",
      "- len X : 62625\n",
      "- len y : 62625\n",
      "- Start the training process\n",
      "Fold 1:\n",
      "Subjects in testing set: ['S10']\n"
     ]
    },
    {
     "ename": "ValueError",
     "evalue": "Unknown label type: unknown. Maybe you are trying to fit a classifier, which expects discrete classes on a regression target with continuous values.",
     "output_type": "error",
     "traceback": [
      "\u001b[1;31m---------------------------------------------------------------------------\u001b[0m",
      "\u001b[1;31mValueError\u001b[0m                                Traceback (most recent call last)",
      "Cell \u001b[1;32mIn[237], line 40\u001b[0m\n\u001b[0;32m     37\u001b[0m X_train, X_test \u001b[38;5;241m=\u001b[39m X\u001b[38;5;241m.\u001b[39miloc[train_index], X\u001b[38;5;241m.\u001b[39miloc[test_index]\n\u001b[0;32m     38\u001b[0m y_train, y_test \u001b[38;5;241m=\u001b[39m y\u001b[38;5;241m.\u001b[39miloc[train_index], y\u001b[38;5;241m.\u001b[39miloc[test_index]\n\u001b[1;32m---> 40\u001b[0m \u001b[43msvm_model\u001b[49m\u001b[38;5;241;43m.\u001b[39;49m\u001b[43mfit\u001b[49m\u001b[43m(\u001b[49m\u001b[43mX_train\u001b[49m\u001b[43m,\u001b[49m\u001b[43m \u001b[49m\u001b[43my_train\u001b[49m\u001b[43m)\u001b[49m\n\u001b[0;32m     41\u001b[0m y_pred \u001b[38;5;241m=\u001b[39m svm_model\u001b[38;5;241m.\u001b[39mpredict(X_test)\n\u001b[0;32m     43\u001b[0m cm \u001b[38;5;241m=\u001b[39m confusion_matrix(y_test, y_pred)\n",
      "File \u001b[1;32m~\\AppData\\Local\\Packages\\PythonSoftwareFoundation.Python.3.12_qbz5n2kfra8p0\\LocalCache\\local-packages\\Python312\\site-packages\\sklearn\\base.py:1474\u001b[0m, in \u001b[0;36m_fit_context.<locals>.decorator.<locals>.wrapper\u001b[1;34m(estimator, *args, **kwargs)\u001b[0m\n\u001b[0;32m   1467\u001b[0m     estimator\u001b[38;5;241m.\u001b[39m_validate_params()\n\u001b[0;32m   1469\u001b[0m \u001b[38;5;28;01mwith\u001b[39;00m config_context(\n\u001b[0;32m   1470\u001b[0m     skip_parameter_validation\u001b[38;5;241m=\u001b[39m(\n\u001b[0;32m   1471\u001b[0m         prefer_skip_nested_validation \u001b[38;5;129;01mor\u001b[39;00m global_skip_validation\n\u001b[0;32m   1472\u001b[0m     )\n\u001b[0;32m   1473\u001b[0m ):\n\u001b[1;32m-> 1474\u001b[0m     \u001b[38;5;28;01mreturn\u001b[39;00m \u001b[43mfit_method\u001b[49m\u001b[43m(\u001b[49m\u001b[43mestimator\u001b[49m\u001b[43m,\u001b[49m\u001b[43m \u001b[49m\u001b[38;5;241;43m*\u001b[39;49m\u001b[43margs\u001b[49m\u001b[43m,\u001b[49m\u001b[43m \u001b[49m\u001b[38;5;241;43m*\u001b[39;49m\u001b[38;5;241;43m*\u001b[39;49m\u001b[43mkwargs\u001b[49m\u001b[43m)\u001b[49m\n",
      "File \u001b[1;32m~\\AppData\\Local\\Packages\\PythonSoftwareFoundation.Python.3.12_qbz5n2kfra8p0\\LocalCache\\local-packages\\Python312\\site-packages\\sklearn\\svm\\_base.py:199\u001b[0m, in \u001b[0;36mBaseLibSVM.fit\u001b[1;34m(self, X, y, sample_weight)\u001b[0m\n\u001b[0;32m    189\u001b[0m \u001b[38;5;28;01melse\u001b[39;00m:\n\u001b[0;32m    190\u001b[0m     X, y \u001b[38;5;241m=\u001b[39m \u001b[38;5;28mself\u001b[39m\u001b[38;5;241m.\u001b[39m_validate_data(\n\u001b[0;32m    191\u001b[0m         X,\n\u001b[0;32m    192\u001b[0m         y,\n\u001b[1;32m   (...)\u001b[0m\n\u001b[0;32m    196\u001b[0m         accept_large_sparse\u001b[38;5;241m=\u001b[39m\u001b[38;5;28;01mFalse\u001b[39;00m,\n\u001b[0;32m    197\u001b[0m     )\n\u001b[1;32m--> 199\u001b[0m y \u001b[38;5;241m=\u001b[39m \u001b[38;5;28;43mself\u001b[39;49m\u001b[38;5;241;43m.\u001b[39;49m\u001b[43m_validate_targets\u001b[49m\u001b[43m(\u001b[49m\u001b[43my\u001b[49m\u001b[43m)\u001b[49m\n\u001b[0;32m    201\u001b[0m sample_weight \u001b[38;5;241m=\u001b[39m np\u001b[38;5;241m.\u001b[39masarray(\n\u001b[0;32m    202\u001b[0m     [] \u001b[38;5;28;01mif\u001b[39;00m sample_weight \u001b[38;5;129;01mis\u001b[39;00m \u001b[38;5;28;01mNone\u001b[39;00m \u001b[38;5;28;01melse\u001b[39;00m sample_weight, dtype\u001b[38;5;241m=\u001b[39mnp\u001b[38;5;241m.\u001b[39mfloat64\n\u001b[0;32m    203\u001b[0m )\n\u001b[0;32m    204\u001b[0m solver_type \u001b[38;5;241m=\u001b[39m LIBSVM_IMPL\u001b[38;5;241m.\u001b[39mindex(\u001b[38;5;28mself\u001b[39m\u001b[38;5;241m.\u001b[39m_impl)\n",
      "File \u001b[1;32m~\\AppData\\Local\\Packages\\PythonSoftwareFoundation.Python.3.12_qbz5n2kfra8p0\\LocalCache\\local-packages\\Python312\\site-packages\\sklearn\\svm\\_base.py:739\u001b[0m, in \u001b[0;36mBaseSVC._validate_targets\u001b[1;34m(self, y)\u001b[0m\n\u001b[0;32m    737\u001b[0m \u001b[38;5;28;01mdef\u001b[39;00m \u001b[38;5;21m_validate_targets\u001b[39m(\u001b[38;5;28mself\u001b[39m, y):\n\u001b[0;32m    738\u001b[0m     y_ \u001b[38;5;241m=\u001b[39m column_or_1d(y, warn\u001b[38;5;241m=\u001b[39m\u001b[38;5;28;01mTrue\u001b[39;00m)\n\u001b[1;32m--> 739\u001b[0m     \u001b[43mcheck_classification_targets\u001b[49m\u001b[43m(\u001b[49m\u001b[43my\u001b[49m\u001b[43m)\u001b[49m\n\u001b[0;32m    740\u001b[0m     \u001b[38;5;28mcls\u001b[39m, y \u001b[38;5;241m=\u001b[39m np\u001b[38;5;241m.\u001b[39munique(y_, return_inverse\u001b[38;5;241m=\u001b[39m\u001b[38;5;28;01mTrue\u001b[39;00m)\n\u001b[0;32m    741\u001b[0m     \u001b[38;5;28mself\u001b[39m\u001b[38;5;241m.\u001b[39mclass_weight_ \u001b[38;5;241m=\u001b[39m compute_class_weight(\u001b[38;5;28mself\u001b[39m\u001b[38;5;241m.\u001b[39mclass_weight, classes\u001b[38;5;241m=\u001b[39m\u001b[38;5;28mcls\u001b[39m, y\u001b[38;5;241m=\u001b[39my_)\n",
      "File \u001b[1;32m~\\AppData\\Local\\Packages\\PythonSoftwareFoundation.Python.3.12_qbz5n2kfra8p0\\LocalCache\\local-packages\\Python312\\site-packages\\sklearn\\utils\\multiclass.py:221\u001b[0m, in \u001b[0;36mcheck_classification_targets\u001b[1;34m(y)\u001b[0m\n\u001b[0;32m    213\u001b[0m y_type \u001b[38;5;241m=\u001b[39m type_of_target(y, input_name\u001b[38;5;241m=\u001b[39m\u001b[38;5;124m\"\u001b[39m\u001b[38;5;124my\u001b[39m\u001b[38;5;124m\"\u001b[39m)\n\u001b[0;32m    214\u001b[0m \u001b[38;5;28;01mif\u001b[39;00m y_type \u001b[38;5;129;01mnot\u001b[39;00m \u001b[38;5;129;01min\u001b[39;00m [\n\u001b[0;32m    215\u001b[0m     \u001b[38;5;124m\"\u001b[39m\u001b[38;5;124mbinary\u001b[39m\u001b[38;5;124m\"\u001b[39m,\n\u001b[0;32m    216\u001b[0m     \u001b[38;5;124m\"\u001b[39m\u001b[38;5;124mmulticlass\u001b[39m\u001b[38;5;124m\"\u001b[39m,\n\u001b[1;32m   (...)\u001b[0m\n\u001b[0;32m    219\u001b[0m     \u001b[38;5;124m\"\u001b[39m\u001b[38;5;124mmultilabel-sequences\u001b[39m\u001b[38;5;124m\"\u001b[39m,\n\u001b[0;32m    220\u001b[0m ]:\n\u001b[1;32m--> 221\u001b[0m     \u001b[38;5;28;01mraise\u001b[39;00m \u001b[38;5;167;01mValueError\u001b[39;00m(\n\u001b[0;32m    222\u001b[0m         \u001b[38;5;124mf\u001b[39m\u001b[38;5;124m\"\u001b[39m\u001b[38;5;124mUnknown label type: \u001b[39m\u001b[38;5;132;01m{\u001b[39;00my_type\u001b[38;5;132;01m}\u001b[39;00m\u001b[38;5;124m. Maybe you are trying to fit a \u001b[39m\u001b[38;5;124m\"\u001b[39m\n\u001b[0;32m    223\u001b[0m         \u001b[38;5;124m\"\u001b[39m\u001b[38;5;124mclassifier, which expects discrete classes on a \u001b[39m\u001b[38;5;124m\"\u001b[39m\n\u001b[0;32m    224\u001b[0m         \u001b[38;5;124m\"\u001b[39m\u001b[38;5;124mregression target with continuous values.\u001b[39m\u001b[38;5;124m\"\u001b[39m\n\u001b[0;32m    225\u001b[0m     )\n",
      "\u001b[1;31mValueError\u001b[0m: Unknown label type: unknown. Maybe you are trying to fit a classifier, which expects discrete classes on a regression target with continuous values."
     ]
    }
   ],
   "source": [
    "from sklearn.svm import SVC\n",
    "from sklearn.model_selection import LeaveOneGroupOut\n",
    "from sklearn.metrics import accuracy_score, confusion_matrix, f1_score\n",
    "\n",
    "# model = SVC(kernel='rbf', C=10, gamma=0.001)\n",
    "svm_model = SVC(kernel='rbf')\n",
    "# model = SVC(kernel='rbf',  class_weight='balanced')\n",
    "\n",
    "logo = LeaveOneGroupOut()\n",
    "\n",
    "groups = subjects_col_\n",
    "X = scaled_data_.drop(columns=['label', 'subject'])\n",
    "y = scaled_data_.label \n",
    "\n",
    "svm_confusion_matrices = []\n",
    "accuracies = []\n",
    "f1_scores = []\n",
    "subjects_ids = [] \n",
    "\n",
    "counter = 1\n",
    "\n",
    "print(f\"- len subjects_id : {len(subjects_col_)}\")\n",
    "print(f\"- len subjects_id : {subjects_col_.shape}\")\n",
    "print(f\"- len X : {len(X)}\")\n",
    "print(f\"- len y : {len(y)}\")\n",
    "\n",
    "\n",
    "print(f\"- Start the training process\")\n",
    "for fold_idx, (train_index, test_index) in enumerate(logo.split(X, y, groups=groups), start=1):\n",
    "    \n",
    "    train_subjects = np.unique(groups.iloc[train_index])\n",
    "    test_subjects = np.unique(groups.iloc[test_index])\n",
    "    \n",
    "    print(f\"Fold {fold_idx}:\")\n",
    "    print(f\"Subjects in testing set: {test_subjects}\")\n",
    "    \n",
    "    X_train, X_test = X.iloc[train_index], X.iloc[test_index]\n",
    "    y_train, y_test = y.iloc[train_index], y.iloc[test_index]\n",
    "    \n",
    "    svm_model.fit(X_train, y_train)\n",
    "    y_pred = svm_model.predict(X_test)\n",
    "\n",
    "    cm = confusion_matrix(y_test, y_pred)\n",
    "    svm_confusion_matrices.append(cm)\n",
    "    accuracy = accuracy_score(y_test, y_pred)\n",
    "    accuracies.append(accuracy)\n",
    "    f1 = f1_score(y_test, y_pred, average=\"weighted\")\n",
    "    f1_scores.append(f1)\n",
    "    \n",
    "    print(f\"{fold_idx}- Accuracy: {accuracy:.2f}\")\n",
    "    print(f\"{fold_idx}- f1-score: {f1:.2f}\")\n",
    "\n",
    "# Summary of results\n",
    "accuracies = np.array(accuracies)\n",
    "f1_scores = np.array(f1_scores)\n",
    "print(f\"The avg accuracy: {accuracies.mean()}\")\n",
    "print(f\"The avg f1_scores: {f1_scores.mean()}\")\n",
    "print(f\"The std accuracy: {accuracies.std()}\")\n",
    "print(f\"The min accuracy: {accuracies.min()}\")\n",
    "print(f\"The max accuracy: {accuracies.max()}\")"
   ]
  },
  {
   "cell_type": "code",
   "execution_count": null,
   "metadata": {},
   "outputs": [],
   "source": []
  }
 ],
 "metadata": {
  "kernelspec": {
   "display_name": "Python 3 (ipykernel)",
   "language": "python",
   "name": "python3"
  },
  "language_info": {
   "codemirror_mode": {
    "name": "ipython",
    "version": 3
   },
   "file_extension": ".py",
   "mimetype": "text/x-python",
   "name": "python",
   "nbconvert_exporter": "python",
   "pygments_lexer": "ipython3",
   "version": "3.12.4"
  }
 },
 "nbformat": 4,
 "nbformat_minor": 2
}
