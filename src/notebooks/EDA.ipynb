{
 "cells": [
  {
   "cell_type": "markdown",
   "metadata": {},
   "source": [
    "# Import libraries"
   ]
  },
  {
   "cell_type": "code",
   "execution_count": 1,
   "metadata": {},
   "outputs": [],
   "source": [
    "import pandas as pd \n",
    "import numpy as np \n",
    "import matplotlib.pyplot as plt "
   ]
  },
  {
   "cell_type": "markdown",
   "metadata": {},
   "source": [
    "# Load Data "
   ]
  },
  {
   "cell_type": "code",
   "execution_count": 13,
   "metadata": {},
   "outputs": [],
   "source": [
    "eda_df = pd.read_csv('./src/notebooks/data/wesad_eda_empatica.csv', sep=';')\n",
    "bvp_df = pd.read_csv('./src/notebooks/data/wesad_bvp_empatica.csv', sep=';')\n",
    "acc_df = pd.read_csv('./src/notebooks/data/wesad_acc_empatica.csv', sep=';')\n",
    "temp_df = pd.read_csv('./src/notebooks/data/wesad_temp_empatica.csv', sep=';')\n",
    "resp_df = pd.read_csv('./src/notebooks/data/wesad_resp_empatica.csv', sep=';')\n",
    "emg_df = pd.read_csv('./src/notebooks/data/wesad_emg_empatica.csv', sep=';')\n",
    "ecg_df = pd.read_csv('./src/notebooks/data/wesad_ecg_empatica.csv', sep=';')\n",
    "label_df = pd.read_csv('./src/notebooks/data/wesad_label_empatica.csv', sep=';')"
   ]
  },
  {
   "cell_type": "markdown",
   "metadata": {},
   "source": [
    "# Feature extraction"
   ]
  },
  {
   "cell_type": "code",
   "execution_count": 61,
   "metadata": {},
   "outputs": [],
   "source": [
    "def non_overlapping_rolling_stats(data, window_size):\n",
    "    mean_vals = []\n",
    "    std_vals = []\n",
    "    min_vals = []\n",
    "    max_vals = []\n",
    "    \n",
    "    for start in range(0, len(data), window_size):\n",
    "        window_data = data[start:start + window_size]\n",
    "        if len(window_data) == window_size:\n",
    "            mean_vals.append(window_data.mean())\n",
    "            std_vals.append(window_data.std())\n",
    "            min_vals.append(window_data.min())\n",
    "            max_vals.append(window_data.max())\n",
    "    \n",
    "    result = pd.DataFrame({\n",
    "        'mean': mean_vals,\n",
    "        'std': std_vals,\n",
    "        'min': min_vals,\n",
    "        'max': max_vals\n",
    "    })\n",
    "    return result"
   ]
  },
  {
   "cell_type": "code",
   "execution_count": 59,
   "metadata": {},
   "outputs": [],
   "source": [
    "window_size = 4\n",
    "eda_features = non_overlapping_rolling_stats(eda_df[eda_df.columns[1]], window_size=window_size)\n",
    "temp_features = non_overlapping_rolling_stats(temp_df[temp_df.columns[1]], window_size=window_size)\n",
    "\n",
    "window_size = 32\n",
    "x_acc_features = non_overlapping_rolling_stats(acc_df['x_axis'], window_size=window_size)\n",
    "y_acc_features = non_overlapping_rolling_stats(acc_df['y_axis'], window_size=window_size)\n",
    "z_acc_features = non_overlapping_rolling_stats(acc_df['z_axis'], window_size=window_size)\n",
    "\n",
    "window_size = 64 \n",
    "bvp_features = non_overlapping_rolling_stats(bvp_df['BVP'], window_size=window_size)\n",
    "\n",
    "window_size = 700\n",
    "resp_features = non_overlapping_rolling_stats(resp_df['RESP'], window_size=window_size)\n",
    "emg_features = non_overlapping_rolling_stats(emg_df['EMG'], window_size=window_size)\n",
    "ecg_features = non_overlapping_rolling_stats(ecg_df['ECG'], window_size=window_size)\n",
    "\n"
   ]
  },
  {
   "cell_type": "code",
   "execution_count": 81,
   "metadata": {},
   "outputs": [],
   "source": [
    "import pandas as pd\n",
    "import numpy as np\n",
    "from scipy.stats import mode\n",
    "\n",
    "window_size = 4\n",
    "\n",
    "def non_overlapping_rolling_labels(data, window_size):\n",
    "    mode_vals = []\n",
    "    \n",
    "    for start in range(0, len(data), window_size):\n",
    "        window_data = data[start:start + window_size]\n",
    "        if len(window_data) == window_size:\n",
    "            mode_vals.append(mode(window_data).mode)  \n",
    "    \n",
    "    result = pd.DataFrame({\n",
    "        'mode': mode_vals\n",
    "    })\n",
    "    return result"
   ]
  },
  {
   "cell_type": "code",
   "execution_count": 82,
   "metadata": {},
   "outputs": [],
   "source": [
    "window_size = 700 \n",
    "labels = non_overlapping_rolling_labels(label_df['label'], window_size=window_size)"
   ]
  },
  {
   "cell_type": "code",
   "execution_count": 90,
   "metadata": {},
   "outputs": [
    {
     "name": "stdout",
     "output_type": "stream",
     "text": [
      "labels shape : (82440, 1)\n",
      "eda_features shape : (82440, 4)\n",
      "temp_features shape : (82440, 4)\n",
      "x_acc_features shape : (82440, 4)\n",
      "y_acc_features shape : (82440, 4)\n",
      "z_acc_features shape : (82440, 4)\n",
      "resp_features shape : (82440, 4)\n",
      "emg_features shape : (82440, 4)\n",
      "ecg_features shape : (82440, 4)\n",
      "labels shape : (82440, 1)\n"
     ]
    }
   ],
   "source": [
    "# chech that the feature extraction is done correctly. \n",
    "\n",
    "print(f'----------------------------------------------')\n",
    "print(f'labels shape : {labels.shape}')\n",
    "print(f'eda_features shape : {eda_features.shape}')\n",
    "print(f'temp_features shape : {temp_features.shape}')\n",
    "print(f'x_acc_features shape : {x_acc_features.shape}')\n",
    "print(f'y_acc_features shape : {y_acc_features.shape}')\n",
    "print(f'z_acc_features shape : {z_acc_features.shape}')\n",
    "print(f'resp_features shape : {resp_features.shape}')\n",
    "print(f'emg_features shape : {emg_features.shape}')\n",
    "print(f'ecg_features shape : {ecg_features.shape}')\n",
    "print(f'labels shape : {labels.shape}')\n",
    "print(f'----------------------------------------------')"
   ]
  }
 ],
 "metadata": {
  "kernelspec": {
   "display_name": "Python 3 (ipykernel)",
   "language": "python",
   "name": "python3"
  },
  "language_info": {
   "codemirror_mode": {
    "name": "ipython",
    "version": 3
   },
   "file_extension": ".py",
   "mimetype": "text/x-python",
   "name": "python",
   "nbconvert_exporter": "python",
   "pygments_lexer": "ipython3",
   "version": "3.12.4"
  }
 },
 "nbformat": 4,
 "nbformat_minor": 2
}
